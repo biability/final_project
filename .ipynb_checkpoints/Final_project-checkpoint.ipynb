{
 "cells": [
  {
   "cell_type": "markdown",
   "id": "999066e9-5a36-4eda-88d7-45b98ef67084",
   "metadata": {
    "editable": true,
    "raw_mimetype": "",
    "slideshow": {
     "slide_type": ""
    },
    "tags": []
   },
   "source": [
    "# **Metabolism Analysis of T. muris and C. elegans**\n",
    "\n",
    "---\n",
    "\n",
    "#### **Students Names:** Abril Iglesias Jiménez, Patricia Sánchez Mengual, Carla Licer Otero, Laia Montenegro Domenech, Esther Batalla Royo and Andrea Lauro\n",
    "#### **Date:** [Fecha de entrega]\n",
    "#### **Course:**  Computational Biology and Biomedical Data Analysis - Universitat Rovira i Virgili\n",
    "\n",
    "---\n",
    "## **1. Introduction**\n",
    "\n",
    "Soil-transmitted helminth infections cause health problems such as diarrhea, abdominal pain, malnutrition, and growth retardation. Human trichuriasis, caused by *Trichuris trichiura*, is one of the most common infections.\n",
    "\n",
    "Due to the difficulty of studying this species directly in the laboratory, *Trichuris muris*, a mouse parasite with very similar biological and pathological characteristics, is used as an experimental model.\n",
    "\n",
    "The main objective of this project is to analyze the metabolism of *T. muris*, compare it with *Caenorhabditis elegans*, and identify essential genes that could serve as potential therapeutic targets for the treatment of whipworm infections."
   ]
  },
  {
   "cell_type": "markdown",
   "id": "a2d016a7-4d02-4321-86d3-4556bd4d4abf",
   "metadata": {
    "editable": true,
    "slideshow": {
     "slide_type": ""
    },
    "tags": []
   },
   "source": [
    "## **2. Genome-Scale Metabolic Models Acquisition**\n",
    "\n",
    "In this section, we will obtain and load the genome-scale metabolic models (GEMs) of *Trichuris muris* and *Caenorhabditis elegans* from public GitHub repositories.  \n"
   ]
  },
  {
   "cell_type": "markdown",
   "id": "e519d419-67c6-42a9-ab83-c9aaf9f0ca8e",
   "metadata": {},
   "source": [
    "## Import libraries"
   ]
  },
  {
   "cell_type": "code",
   "execution_count": 14,
   "id": "307dfbff-6c5d-47b9-a5dc-ee3becef4ff9",
   "metadata": {
    "editable": true,
    "slideshow": {
     "slide_type": ""
    },
    "tags": []
   },
   "outputs": [],
   "source": [
    "import cobra\n",
    "import gzip\n",
    "from cobra.io import load_model\n",
    "from Bio import SeqIO, Align, pairwise2\n",
    "import pandas as pd\n",
    "import time"
   ]
  },
  {
   "cell_type": "markdown",
   "id": "756bec4f-ba3e-404b-8dc4-7394e30f2c6c",
   "metadata": {},
   "source": [
    "## Set file paths"
   ]
  },
  {
   "cell_type": "code",
   "execution_count": 15,
   "id": "631c6ff9-f7b8-475b-ab6c-fb3f99b82f14",
   "metadata": {},
   "outputs": [],
   "source": [
    "tmuris_xml = '/opt/notebooks/final_project/Genomicscale/Tmuris.xml'\n",
    "celegans_xml = '/opt/notebooks/final_project/Genomicscale/Celegans.xml'\n",
    "tmuris_protein_fa = '/opt/notebooks/final_project/AAsequence/Tmuris.protein.fa.gz'\n",
    "celegans_protein_fa = '/opt/notebooks/final_project/AAsequence/Celegans.protein.fa.gz'"
   ]
  },
  {
   "cell_type": "code",
   "execution_count": 16,
   "id": "c9e222b4-66af-4fd5-807d-a470592d6c5b",
   "metadata": {},
   "outputs": [
    {
     "name": "stderr",
     "output_type": "stream",
     "text": [
      "https://identifiers.org/taxonomy/ does not conform to 'http(s)://identifiers.org/collection/id' or'http(s)://identifiers.org/COLLECTION:id\n"
     ]
    },
    {
     "data": {
      "text/html": [
       "\n",
       "        <table>\n",
       "            <tr>\n",
       "                <td><strong>Name</strong></td>\n",
       "                <td>iTMU798</td>\n",
       "            </tr><tr>\n",
       "                <td><strong>Memory address</strong></td>\n",
       "                <td>77bc4be59b80</td>\n",
       "            </tr><tr>\n",
       "                <td><strong>Number of metabolites</strong></td>\n",
       "                <td>930</td>\n",
       "            </tr><tr>\n",
       "                <td><strong>Number of reactions</strong></td>\n",
       "                <td>1219</td>\n",
       "            </tr><tr>\n",
       "                <td><strong>Number of genes</strong></td>\n",
       "                <td>800</td>\n",
       "            </tr><tr>\n",
       "                <td><strong>Number of groups</strong></td>\n",
       "                <td>0</td>\n",
       "            </tr><tr>\n",
       "                <td><strong>Objective expression</strong></td>\n",
       "                <td>1.0*WBPTMR0091 - 1.0*WBPTMR0091_reverse_cd110</td>\n",
       "            </tr><tr>\n",
       "                <td><strong>Compartments</strong></td>\n",
       "                <td>Mitochondria, Cytosol, Extracellular Space</td>\n",
       "            </tr>\n",
       "          </table>"
      ],
      "text/plain": [
       "<Model iTMU798 at 0x77bc4be59b80>"
      ]
     },
     "metadata": {},
     "output_type": "display_data"
    },
    {
     "data": {
      "text/html": [
       "\n",
       "        <table>\n",
       "            <tr>\n",
       "                <td><strong>Name</strong></td>\n",
       "                <td>WormGEM</td>\n",
       "            </tr><tr>\n",
       "                <td><strong>Memory address</strong></td>\n",
       "                <td>77bc4b8e11f0</td>\n",
       "            </tr><tr>\n",
       "                <td><strong>Number of metabolites</strong></td>\n",
       "                <td>8175</td>\n",
       "            </tr><tr>\n",
       "                <td><strong>Number of reactions</strong></td>\n",
       "                <td>11936</td>\n",
       "            </tr><tr>\n",
       "                <td><strong>Number of genes</strong></td>\n",
       "                <td>1604</td>\n",
       "            </tr><tr>\n",
       "                <td><strong>Number of groups</strong></td>\n",
       "                <td>153</td>\n",
       "            </tr><tr>\n",
       "                <td><strong>Objective expression</strong></td>\n",
       "                <td>1.0*MAR00021 - 1.0*MAR00021_reverse_97974</td>\n",
       "            </tr><tr>\n",
       "                <td><strong>Compartments</strong></td>\n",
       "                <td>Cytosol, Extracellular, Lysosome, Endoplasmic reticulum, Mitochondria, Peroxisome, Golgi apparatus, Nucleus, Inner mitochondria</td>\n",
       "            </tr>\n",
       "          </table>"
      ],
      "text/plain": [
       "<Model WormGEM at 0x77bc4b8e11f0>"
      ]
     },
     "metadata": {},
     "output_type": "display_data"
    }
   ],
   "source": [
    "# Load the genome-scale metabolic model of T. muris\n",
    "T_muris_GS = cobra.io.read_sbml_model(tmuris_xml)\n",
    "\n",
    "# Load the genome-scale metabolic model of C. elegans\n",
    "C_elegans_GS = cobra.io.read_sbml_model(celegans_xml)\n",
    "\n",
    "display(T_muris_GS)\n",
    "display(C_elegans_GS)"
   ]
  },
  {
   "cell_type": "markdown",
   "id": "27332886-c5e8-4488-9bb1-69b19576ef1f",
   "metadata": {},
   "source": [
    "The genome-scale model **iTMU798** of *T. muris* contains **930 metabolites**, **1219 reactions**, and **800 genes**, which aligns well with the original publication. The model includes three compartments (cytosol, mitochondria, and extracellular space). \n",
    "\n",
    "The genome-scale model **WormGEM** of *C. elegans* includes **8175 metabolites**, **11,936 reactions**, and **1604 genes**. It defines **153 metabolic groups**. The model icludes multiple cellular compartments, such as cytosol, nucleus, mitochondria, lysosome, endoplasmic reticulum, and others."
   ]
  },
  {
   "cell_type": "markdown",
   "id": "fe176481-2afd-4750-b005-cd94640b28b3",
   "metadata": {},
   "source": [
    "## **3. Protein Sequences Acquisition**\n",
    "\n",
    "In this section, we obtain and load the amino acid sequences for all proteins from *Trichuris muris* and *Caenorhabditis elegans*.  \n",
    "The sequences are retrieved from WormBase Parasite in FASTA format (.fa.gz files).\n"
   ]
  },
  {
   "cell_type": "code",
   "execution_count": 17,
   "id": "5115187c-b672-476b-b9b8-4c313c13a4c5",
   "metadata": {},
   "outputs": [
    {
     "name": "stdout",
     "output_type": "stream",
     "text": [
      "T. muris proteins loaded 14995  sequences.\n",
      "C. elegans proteins loaded: 28577 sequences.\n",
      "\n",
      "\n",
      "First T. muris protein:\n",
      "ID: TMUE_0000000001\n",
      "Description: TMUE_0000000001 wormpep=TMP03343 gene=WBGene00295949 status=Predicted\n",
      "Sequence: MVFPSFLLSSKTQRGIQKASKWWDESTKLAEAIVLGALGPSPATCNRCKELKIWWALFQPALPVAPSQ\n",
      "\n",
      "-------------------------------------------------------------------------------\n",
      "\n",
      "First C. elegans protein:\n",
      "ID: 2L52.1a\n",
      "Description: 2L52.1a wormpep=CE32090 gene=WBGene00007063 status=Confirmed uniprot=A4F336 insdc=CCD61130.1 product=\"C2H2-type domain-containing protein\"\n",
      "Sequence: MSMVRNVSNQSEKLEILSCKWVGCLKSTEVFKTVEKLLDHVTADHIPEVIVNDDGSEEVVCQWDCCEMGASRGNLQKKKEWMENHFKTRHVRKAKIFKCLIEDCPVVKSSSQEIETHLRISHPINPKKERLKEFKSSTDHIEPTQANRVWTIVNGEVQWKTPPRVKKKTVIYYDDGPRYVFPTGCARCNYDSDESELESDEFWSATEMSDNEEVYVNFRGMNCISTGKSASMVPSKRRNWPKRVKKRLSTQRNNQKTIRPPELNKNNIEIKDMNSNNLEERNREECIQPVSVEKNILHFEKFKSNQICIVRENNKFREGTRRRRKNSGESEDLKIHENFTEKRRPIRSCKQNISFYEMDGDIEEFEVFFDTPTKSKKVLLDIYSAKKMPKIEVEDSLVNKFHSKRPSRACRVLGSMEEVPFDVEIGY\n"
     ]
    }
   ],
   "source": [
    "# Function to load protein sequences from a compressed .fa.gz file\n",
    "def load_protein_sequences(file_path):\n",
    "    with gzip.open(file_path, \"rt\") as handle:  # Open the .gz file in text mode\n",
    "        records = list(SeqIO.parse(handle, \"fasta\"))  # Parse sequences in FASTA format\n",
    "    return records  # Return the list of sequence records\n",
    "\n",
    "# Load protein sequences for T. muris\n",
    "t_muris_proteins = load_protein_sequences(tmuris_protein_fa)\n",
    "\n",
    "# Load protein sequences for C. elegans\n",
    "c_elegans_proteins = load_protein_sequences(celegans_protein_fa)\n",
    "\n",
    "# Print the number of protein sequences loaded\n",
    "print(\"T. muris proteins loaded\", len(t_muris_proteins), \" sequences.\")\n",
    "print(\"C. elegans proteins loaded:\", len(c_elegans_proteins), \"sequences.\")\n",
    "print(\"\\n\")\n",
    "\n",
    "# Display information about the first T. muris protein\n",
    "print(\"First T. muris protein:\")\n",
    "print(\"ID:\", t_muris_proteins[0].id)  # Show protein ID\n",
    "print(\"Description:\", t_muris_proteins[0].description)  # Show description if available\n",
    "print(\"Sequence:\", t_muris_proteins[0].seq)  # Show the amino acid sequence\n",
    "\n",
    "print(\"\\n-------------------------------------------------------------------------------\\n\")\n",
    "\n",
    "# Display information about the first C. elegans protein\n",
    "print(\"First C. elegans protein:\")\n",
    "print(\"ID:\", c_elegans_proteins[0].id)  \n",
    "print(\"Description:\", c_elegans_proteins[0].description)  \n",
    "print(\"Sequence:\", c_elegans_proteins[0].seq) \n"
   ]
  },
  {
   "cell_type": "markdown",
   "id": "15783b1d-9e5b-40a4-baca-61d1eab567ac",
   "metadata": {},
   "source": [
    "From these results, we can confirm that both proteomes were correctly loaded and are consistent with the expected data from WormBase Parasite. *T. muris* includes 14995 protein sequences, and *C. elegans* includes 28577. \n"
   ]
  },
  {
   "cell_type": "markdown",
   "id": "ebc3189e-2d59-422a-8580-b826d6336abb",
   "metadata": {},
   "source": [
    "## **4. Identification of Orthologous Enzymes via Pairwise Sequence Alignment**\n",
    "\n",
    "In this section, we focus on identifying orthologous enzymes between *Trichuris muris* and *Caenorhabditis elegans*.  We begin by extracting the protein-coding genes involved in enzymatic reactions from the *T. muris* metabolic model.\n",
    "\n",
    "We then perform pairwise sequence alignment between each *T. muris* enzymatic protein and all proteins in the *C. elegans* to identify the best-matching orthologs based on sequence similarity.  \n",
    "This analysis allows us to examine whether the metabolic function of each enzyme is conserved in *C. elegans*, or if there are significant differences that could indicate functional divergence or specialization.\n",
    "\n"
   ]
  },
  {
   "cell_type": "code",
   "execution_count": 18,
   "id": "67977d4d-2dcb-4841-8f39-600311d18974",
   "metadata": {},
   "outputs": [
    {
     "name": "stdout",
     "output_type": "stream",
     "text": [
      "Number of enzymatic genes in T. muris model:  800\n",
      "Example gene IDs:  ['TMUE_3000011849', 'TMUE_0000000186', 'TMUE_3000012793', 'TMUE_3000011199', 'TMUE_3000013102']\n"
     ]
    }
   ],
   "source": [
    "#SEARCHING ID OF THE ENZYMATIC GENES\n",
    "\n",
    "# Initialize an empty list to store enzymatic gene IDs\n",
    "enzymatic_genes_tmuris =[]\n",
    "    \n",
    "# Loop through each gene object in the T. muris model, .genes gets the enzymatic proteins\n",
    "for gene in T_muris_GS.genes:\n",
    "    enzymatic_genes_tmuris.append(gene.id) #adds to a list the id of each gene\n",
    "    \n",
    "# Print results\n",
    "print(\"Number of enzymatic genes in T. muris model: \", len(enzymatic_genes_tmuris))\n",
    "print(\"Example gene IDs: \", enzymatic_genes_tmuris[:5])\n",
    "\n",
    "# Parámetros de alignment\n",
    "match_score = 1.0\n",
    "mismatch_score = -1.0\n",
    "gap_open = -1.5\n",
    "gap_extend = -0.5\n",
    "\n",
    "\n",
    "\n",
    "output_file = \"orthologs_blockwise.csv\"\n",
    "\n",
    "\n"
   ]
  },
  {
   "cell_type": "code",
   "execution_count": 19,
   "id": "d9c39415-b689-46b7-8b63-f6b98c323504",
   "metadata": {},
   "outputs": [
    {
     "name": "stdout",
     "output_type": "stream",
     "text": [
      "Genes enzimáticos de T. muris con secuencia disponible: 798 / 800\n"
     ]
    }
   ],
   "source": [
    "# Crear diccionario de secuencias de T. muris por ID\n",
    "tmuris_seq_dict = {record.id: record for record in t_muris_proteins}\n",
    "\n",
    "# Filtrar solo genes enzimáticos que tengan secuencia disponible\n",
    "enzymatic_genes_with_seq = []\n",
    "for gene_id in enzymatic_genes_tmuris:\n",
    "    if gene_id in tmuris_seq_dict:\n",
    "        enzymatic_genes_with_seq.append(tmuris_seq_dict[gene_id])\n",
    "\n",
    "print(f\"Genes enzimáticos de T. muris con secuencia disponible: {len(enzymatic_genes_with_seq)} / {len(enzymatic_genes_tmuris)}\")\n"
   ]
  },
  {
   "cell_type": "code",
   "execution_count": 22,
   "id": "f52e4f0f-086e-4e33-8f56-fe3124604bbb",
   "metadata": {},
   "outputs": [
    {
     "ename": "TypeError",
     "evalue": "unsupported operand type(s) for /: 'list' and 'int'",
     "output_type": "error",
     "traceback": [
      "\u001b[31m---------------------------------------------------------------------------\u001b[39m",
      "\u001b[31mTypeError\u001b[39m                                 Traceback (most recent call last)",
      "\u001b[36mCell\u001b[39m\u001b[36m \u001b[39m\u001b[32mIn[22]\u001b[39m\u001b[32m, line 29\u001b[39m\n\u001b[32m     27\u001b[39m \u001b[38;5;66;03m# Alineamiento rápido\u001b[39;00m\n\u001b[32m     28\u001b[39m score = pairwise2.align.globalms(tm_protein.seq, ce_protein.seq, match_score, mismatch_score, gap_open, gap_extend)\n\u001b[32m---> \u001b[39m\u001b[32m29\u001b[39m identity = \u001b[43mscore\u001b[49m\u001b[43m \u001b[49m\u001b[43m/\u001b[49m\u001b[43m \u001b[49m\u001b[43mlen_tm\u001b[49m\n\u001b[32m     31\u001b[39m \u001b[38;5;28;01mif\u001b[39;00m identity > \u001b[32m0.7\u001b[39m:\n\u001b[32m     32\u001b[39m     ce_id = ce_protein.id\n",
      "\u001b[31mTypeError\u001b[39m: unsupported operand type(s) for /: 'list' and 'int'"
     ]
    }
   ],
   "source": [
    "# Configuración previa\n",
    "c_elegans_gene_ids = {gene.id for gene in C_elegans_GS.genes}\n",
    "c_elegans_model_map = {gene.id: [rxn.id for rxn in gene.reactions] for gene in C_elegans_GS.genes}\n",
    "min_len_ratio = 0.7\n",
    "max_len_ratio = 1.4\n",
    "\n",
    "# Inicialización\n",
    "orthologs_detailed = []\n",
    "total_blocks = len(enzymatic_genes_with_seq)\n",
    "start_total = time.time()\n",
    "\n",
    "# Loop principal\n",
    "for block_num, tm_protein in enumerate(enzymatic_genes_with_seq, start=1):\n",
    "    start_block = time.time()\n",
    "\n",
    "    len_tm = len(tm_protein.seq)\n",
    "    for ce_protein in c_elegans_proteins:\n",
    "        len_ce = len(ce_protein.seq)\n",
    "\n",
    "        # Filtrado por longitud\n",
    "        if len_ce / len_tm < min_len_ratio or len_ce / len_tm > max_len_ratio:\n",
    "            continue\n",
    "\n",
    "        # Alineamiento rápido\n",
    "        score = pairwise2.align.globalms(tm_protein.seq, ce_protein.seq, match_score, mismatch_score, gap_open, gap_extend)\n",
    "        identity = score / len_tm\n",
    "\n",
    "        if identity > 0.7:\n",
    "            ce_id = ce_protein.id\n",
    "            ce_in_model = ce_id in c_elegans_model_map\n",
    "            ce_reactions = \";\".join(c_elegans_model_map.get(ce_id, []))\n",
    "\n",
    "            orthologs_detailed.append({\n",
    "                \"ID_T_muris\": tm_protein.id,\n",
    "                \"ID_C_elegans\": ce_id,\n",
    "                \"Score\": score,\n",
    "                \"%_identity\": round(identity * 100, 2),\n",
    "                \"In_C_elegans_Model\": ce_in_model,\n",
    "                \"C_elegans_Reactions\": ce_reactions,\n",
    "                \"Length_T_muris\": len_tm,\n",
    "                \"Length_C_elegans\": len_ce\n",
    "            })\n",
    "\n",
    "    # Progreso por bloque\n",
    "    block_time = time.time() - start_block\n",
    "    elapsed = time.time() - start_total\n",
    "    avg_block_time = elapsed / block_num\n",
    "    remaining_time = (total_blocks - block_num) * avg_block_time\n",
    "\n",
    "    print(f\"[{block_num}/{total_blocks}] proteínas T. muris - \"\n",
    "          f\"Tiempo para este bloque: {block_time:.2f}s - \"\n",
    "          f\"Total: {elapsed/60:.2f} min - Est. restante: {remaining_time/60:.2f} min\")\n"
   ]
  },
  {
   "cell_type": "code",
   "execution_count": 9,
   "id": "c3a2c0f7-3f1c-4a8d-9b79-a3c368867abb",
   "metadata": {},
   "outputs": [
    {
     "name": "stdout",
     "output_type": "stream",
     "text": [
      "Archivo guardado: orthologs_with_functions.csv\n"
     ]
    }
   ],
   "source": [
    "df_orthologs = pd.DataFrame(orthologs_detailed)\n",
    "df_orthologs.to_csv(\"orthologs_with_functions.csv\", index=False)\n",
    "print(\"Archivo guardado: orthologs_with_functions.csv\")"
   ]
  },
  {
   "cell_type": "code",
   "execution_count": null,
   "id": "be27fada-0543-4fb4-8d84-d9f74cd13687",
   "metadata": {},
   "outputs": [],
   "source": []
  }
 ],
 "metadata": {
  "kernelspec": {
   "display_name": "Python 3 (ipykernel)",
   "language": "python",
   "name": "python3"
  },
  "language_info": {
   "codemirror_mode": {
    "name": "ipython",
    "version": 3
   },
   "file_extension": ".py",
   "mimetype": "text/x-python",
   "name": "python",
   "nbconvert_exporter": "python",
   "pygments_lexer": "ipython3",
   "version": "3.12.3"
  }
 },
 "nbformat": 4,
 "nbformat_minor": 5
}
